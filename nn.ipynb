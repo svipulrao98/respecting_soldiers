{
 "cells": [
  {
   "cell_type": "code",
   "execution_count": 16,
   "metadata": {},
   "outputs": [],
   "source": [
    "import pandas as pd\n",
    "from keras.models import Sequential\n",
    "from keras.layers import Dense\n",
    "from sklearn.preprocessing import StandardScaler\n",
    "from sklearn.metrics import mean_absolute_error\n",
    "import csv"
   ]
  },
  {
   "cell_type": "code",
   "execution_count": 42,
   "metadata": {},
   "outputs": [],
   "source": [
    "dataset=pd.read_csv('train.csv')"
   ]
  },
  {
   "cell_type": "code",
   "execution_count": 53,
   "metadata": {},
   "outputs": [],
   "source": [
    "X = dataset.iloc[:, 3:23].values\n",
    "y = dataset.iloc[:, -1].values"
   ]
  },
  {
   "cell_type": "code",
   "execution_count": 45,
   "metadata": {},
   "outputs": [],
   "source": [
    "sc = StandardScaler()\n",
    "X = sc.fit_transform(X)"
   ]
  },
  {
   "cell_type": "code",
   "execution_count": 37,
   "metadata": {},
   "outputs": [
    {
     "name": "stderr",
     "output_type": "stream",
     "text": [
      "/home/vipss/anaconda3/lib/python3.6/site-packages/ipykernel_launcher.py:5: UserWarning: Update your `Dense` call to the Keras 2 API: `Dense(activation=\"relu\", input_dim=20, units=30, kernel_initializer=\"Orthogonal\")`\n",
      "  \"\"\"\n",
      "/home/vipss/anaconda3/lib/python3.6/site-packages/ipykernel_launcher.py:8: UserWarning: Update your `Dense` call to the Keras 2 API: `Dense(activation=\"relu\", units=50, kernel_initializer=\"he_uniform\")`\n",
      "  \n",
      "/home/vipss/anaconda3/lib/python3.6/site-packages/ipykernel_launcher.py:9: UserWarning: Update your `Dense` call to the Keras 2 API: `Dense(activation=\"relu\", units=80, kernel_initializer=\"lecun_uniform\")`\n",
      "  if __name__ == '__main__':\n",
      "/home/vipss/anaconda3/lib/python3.6/site-packages/ipykernel_launcher.py:10: UserWarning: Update your `Dense` call to the Keras 2 API: `Dense(activation=\"relu\", units=60, kernel_initializer=\"glorot_normal\")`\n",
      "  # Remove the CWD from sys.path while we load stuff.\n",
      "/home/vipss/anaconda3/lib/python3.6/site-packages/ipykernel_launcher.py:11: UserWarning: Update your `Dense` call to the Keras 2 API: `Dense(activation=\"relu\", units=40, kernel_initializer=\"he_normal\")`\n",
      "  # This is added back by InteractiveShellApp.init_path()\n",
      "/home/vipss/anaconda3/lib/python3.6/site-packages/ipykernel_launcher.py:12: UserWarning: Update your `Dense` call to the Keras 2 API: `Dense(activation=\"relu\", units=26, kernel_initializer=\"glorot_uniform\")`\n",
      "  if sys.path[0] == '':\n",
      "/home/vipss/anaconda3/lib/python3.6/site-packages/ipykernel_launcher.py:15: UserWarning: Update your `Dense` call to the Keras 2 API: `Dense(activation=\"linear\", units=1, kernel_initializer=\"lecun_normal\")`\n",
      "  from ipykernel import kernelapp as app\n"
     ]
    }
   ],
   "source": [
    "#first layer\n",
    "classifier = Sequential()\n",
    "\n",
    "# Adding the input layer and the first hidden layer\n",
    "classifier.add(Dense(output_dim = 30, init = 'Orthogonal', activation = 'relu', input_dim = 20))\n",
    "\n",
    "# Adding the second hidden layer\n",
    "classifier.add(Dense(output_dim = 50, init = 'he_uniform', activation = 'relu'))\n",
    "classifier.add(Dense(output_dim = 80, init = 'lecun_uniform', activation = 'relu'))\n",
    "classifier.add(Dense(output_dim = 60, init = 'glorot_normal', activation = 'relu'))\n",
    "classifier.add(Dense(output_dim = 40, init = 'he_normal', activation = 'relu'))\n",
    "classifier.add(Dense(output_dim = 26, init = 'glorot_uniform', activation = 'relu'))\n",
    "\n",
    "#output layer\n",
    "classifier.add(Dense(output_dim = 1, init = 'lecun_normal', activation = 'linear'))\n",
    "\n",
    "# Compiling the ANN\n",
    "classifier.compile(optimizer = 'adam', loss = 'mean_absolute_error', metrics = ['mean_absolute_error'])"
   ]
  },
  {
   "cell_type": "code",
   "execution_count": 55,
   "metadata": {},
   "outputs": [
    {
     "name": "stderr",
     "output_type": "stream",
     "text": [
      "/home/vipss/anaconda3/lib/python3.6/site-packages/ipykernel_launcher.py:2: UserWarning: The `nb_epoch` argument in `fit` has been renamed `epochs`.\n",
      "  \n"
     ]
    },
    {
     "name": "stdout",
     "output_type": "stream",
     "text": [
      "Train on 4270189 samples, validate on 87147 samples\n",
      "Epoch 1/20\n",
      "4270189/4270189 [==============================] - 24s 6us/step - loss: 2.2642 - mean_absolute_error: 2.2642 - val_loss: 0.1356 - val_mean_absolute_error: 0.1356\n",
      "Epoch 2/20\n",
      "4270189/4270189 [==============================] - 24s 6us/step - loss: 0.1077 - mean_absolute_error: 0.1077 - val_loss: 0.0829 - val_mean_absolute_error: 0.0829\n",
      "Epoch 3/20\n",
      "4270189/4270189 [==============================] - 24s 6us/step - loss: 0.0925 - mean_absolute_error: 0.0925 - val_loss: 0.0828 - val_mean_absolute_error: 0.0828\n",
      "Epoch 4/20\n",
      "4270189/4270189 [==============================] - 25s 6us/step - loss: 0.0851 - mean_absolute_error: 0.0851 - val_loss: 0.0725 - val_mean_absolute_error: 0.0725\n",
      "Epoch 5/20\n",
      "4270189/4270189 [==============================] - 25s 6us/step - loss: 0.0779 - mean_absolute_error: 0.0779 - val_loss: 0.0751 - val_mean_absolute_error: 0.0751\n",
      "Epoch 6/20\n",
      "4270189/4270189 [==============================] - 25s 6us/step - loss: 0.0740 - mean_absolute_error: 0.0740 - val_loss: 0.0711 - val_mean_absolute_error: 0.0711\n",
      "Epoch 7/20\n",
      "4270189/4270189 [==============================] - 25s 6us/step - loss: 0.0710 - mean_absolute_error: 0.0710 - val_loss: 0.0626 - val_mean_absolute_error: 0.0626\n",
      "Epoch 8/20\n",
      "4270189/4270189 [==============================] - 25s 6us/step - loss: 0.0687 - mean_absolute_error: 0.0687 - val_loss: 0.0693 - val_mean_absolute_error: 0.0693\n",
      "Epoch 9/20\n",
      "4270189/4270189 [==============================] - 25s 6us/step - loss: 0.0675 - mean_absolute_error: 0.0675 - val_loss: 0.0621 - val_mean_absolute_error: 0.0621\n",
      "Epoch 10/20\n",
      "4270189/4270189 [==============================] - 25s 6us/step - loss: 0.0668 - mean_absolute_error: 0.0668 - val_loss: 0.0576 - val_mean_absolute_error: 0.0576\n",
      "Epoch 11/20\n",
      "4270189/4270189 [==============================] - 25s 6us/step - loss: 0.0664 - mean_absolute_error: 0.0664 - val_loss: 0.0622 - val_mean_absolute_error: 0.0622\n",
      "Epoch 12/20\n",
      "4270189/4270189 [==============================] - 25s 6us/step - loss: 0.0660 - mean_absolute_error: 0.0660 - val_loss: 0.0641 - val_mean_absolute_error: 0.0641\n",
      "Epoch 13/20\n",
      "4270189/4270189 [==============================] - 25s 6us/step - loss: 0.0658 - mean_absolute_error: 0.0658 - val_loss: 0.0674 - val_mean_absolute_error: 0.0674\n",
      "Epoch 14/20\n",
      "4270189/4270189 [==============================] - 25s 6us/step - loss: 0.0655 - mean_absolute_error: 0.0655 - val_loss: 0.0580 - val_mean_absolute_error: 0.0580\n",
      "Epoch 15/20\n",
      "4270189/4270189 [==============================] - 25s 6us/step - loss: 0.0654 - mean_absolute_error: 0.0654 - val_loss: 0.0598 - val_mean_absolute_error: 0.0598\n",
      "Epoch 16/20\n",
      "4270189/4270189 [==============================] - 25s 6us/step - loss: 0.0652 - mean_absolute_error: 0.0652 - val_loss: 0.0582 - val_mean_absolute_error: 0.0582\n",
      "Epoch 17/20\n",
      "4270189/4270189 [==============================] - 25s 6us/step - loss: 0.0651 - mean_absolute_error: 0.0651 - val_loss: 0.0579 - val_mean_absolute_error: 0.0579\n",
      "Epoch 18/20\n",
      "4270189/4270189 [==============================] - 25s 6us/step - loss: 0.0650 - mean_absolute_error: 0.0650 - val_loss: 0.0577 - val_mean_absolute_error: 0.0577\n",
      "Epoch 19/20\n",
      "4270189/4270189 [==============================] - 24s 6us/step - loss: 0.0648 - mean_absolute_error: 0.0648 - val_loss: 0.0595 - val_mean_absolute_error: 0.0595\n",
      "Epoch 20/20\n",
      "4270189/4270189 [==============================] - 23s 5us/step - loss: 0.0647 - mean_absolute_error: 0.0647 - val_loss: 0.0588 - val_mean_absolute_error: 0.0588\n"
     ]
    },
    {
     "data": {
      "text/plain": [
       "<keras.callbacks.History at 0x7f8a440882e8>"
      ]
     },
     "execution_count": 55,
     "metadata": {},
     "output_type": "execute_result"
    }
   ],
   "source": [
    "# Fitting the ANN to the Training set\n",
    "classifier.fit(X, y, batch_size = 1000, nb_epoch = 20, validation_split=0.02)"
   ]
  },
  {
   "cell_type": "code",
   "execution_count": 19,
   "metadata": {},
   "outputs": [],
   "source": [
    "dataset=pd.read_csv('test.csv')"
   ]
  },
  {
   "cell_type": "code",
   "execution_count": 25,
   "metadata": {},
   "outputs": [],
   "source": [
    "X_test = dataset.iloc[:, 3:23].values\n",
    "X_test = sc.transform(X_test)"
   ]
  },
  {
   "cell_type": "code",
   "execution_count": 16,
   "metadata": {},
   "outputs": [],
   "source": [
    "y_pred=classifier.predict(X_test)"
   ]
  },
  {
   "cell_type": "code",
   "execution_count": 10,
   "metadata": {},
   "outputs": [],
   "source": [
    "for i in range(len(y_pred)):\n",
    "    if(y_pred[i]<0):\n",
    "        y_pred[i]=0"
   ]
  },
  {
   "cell_type": "code",
   "execution_count": 14,
   "metadata": {},
   "outputs": [],
   "source": [
    "predictions=[]\n",
    "for i in range(len(dataset)):\n",
    "    predictions.append([dataset['soldierId'][i], y_pred[i]])"
   ]
  },
  {
   "cell_type": "code",
   "execution_count": 15,
   "metadata": {},
   "outputs": [],
   "source": [
    "with open('predictionsnull.csv', 'w') as csvFile:\n",
    "    writer = csv.writer(csvFile)\n",
    "    writer.writerows(predictions)\n",
    "csvFile.close()"
   ]
  },
  {
   "cell_type": "code",
   "execution_count": 27,
   "metadata": {},
   "outputs": [
    {
     "data": {
      "text/plain": [
       "1500.179822974225"
      ]
     },
     "execution_count": 27,
     "metadata": {},
     "output_type": "execute_result"
    }
   ],
   "source": [
    "mean_absolute_error(pd.read_csv('predictions4.csv').iloc[:, 1].values, y_pred)"
   ]
  }
 ],
 "metadata": {
  "kernelspec": {
   "display_name": "Python 3",
   "language": "python",
   "name": "python3"
  },
  "language_info": {
   "codemirror_mode": {
    "name": "ipython",
    "version": 3
   },
   "file_extension": ".py",
   "mimetype": "text/x-python",
   "name": "python",
   "nbconvert_exporter": "python",
   "pygments_lexer": "ipython3",
   "version": "3.6.5"
  }
 },
 "nbformat": 4,
 "nbformat_minor": 2
}
